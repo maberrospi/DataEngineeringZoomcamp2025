{
 "cells": [
  {
   "cell_type": "code",
   "execution_count": 1,
   "id": "e2f27fc0",
   "metadata": {},
   "outputs": [
    {
     "name": "stderr",
     "output_type": "stream",
     "text": [
      "25/03/03 17:46:40 WARN Utils: Your hostname, MichaelAngelo resolves to a loopback address: 127.0.1.1; using 10.255.255.254 instead (on interface lo)\n",
      "25/03/03 17:46:40 WARN Utils: Set SPARK_LOCAL_IP if you need to bind to another address\n",
      "Setting default log level to \"WARN\".\n",
      "To adjust logging level use sc.setLogLevel(newLevel). For SparkR, use setLogLevel(newLevel).\n",
      "25/03/03 17:46:40 WARN NativeCodeLoader: Unable to load native-hadoop library for your platform... using builtin-java classes where applicable\n",
      "25/03/03 17:46:41 WARN Utils: Service 'SparkUI' could not bind on port 4040. Attempting port 4041.\n"
     ]
    }
   ],
   "source": [
    "import pyspark\n",
    "from pyspark.sql import SparkSession\n",
    "\n",
    "spark = SparkSession.builder \\\n",
    "    .master(\"local[*]\") \\\n",
    "    .appName('Spark_HW') \\\n",
    "    .getOrCreate()"
   ]
  },
  {
   "cell_type": "code",
   "execution_count": 2,
   "id": "d8cb8412",
   "metadata": {},
   "outputs": [
    {
     "name": "stderr",
     "output_type": "stream",
     "text": [
      "\r",
      "[Stage 0:>                                                          (0 + 1) / 1]\r",
      "\r",
      "                                                                                \r"
     ]
    }
   ],
   "source": [
    "df_yellow = spark.read.parquet(\"/mnt/c/Users/mab03/Desktop/DataEngineeringZoomcamp2025/Homework/Module5_Spark/yellow_tripdata_2024-10.parquet\")"
   ]
  },
  {
   "cell_type": "code",
   "execution_count": 4,
   "id": "9bc45960",
   "metadata": {},
   "outputs": [
    {
     "name": "stderr",
     "output_type": "stream",
     "text": [
      "                                                                                \r"
     ]
    }
   ],
   "source": [
    "# Repartition into 4 partitions\n",
    "df_yellow.repartition(4)\n",
    "# Save into parquet files\n",
    "df_yellow.write.parquet('yellow/2024/10/')"
   ]
  },
  {
   "cell_type": "code",
   "execution_count": 12,
   "id": "3c7761a0",
   "metadata": {},
   "outputs": [
    {
     "name": "stdout",
     "output_type": "stream",
     "text": [
      "total 75M\r\n",
      "-rwxrwxrwx 1 mab-linux mab-linux    0 Mar  3 17:51 _SUCCESS\r\n",
      "-rwxrwxrwx 1 mab-linux mab-linux 2.1K Mar  3 17:51 part-00000-23f81cb1-4a4c-40f9-9680-6257be7c93a5-c000.snappy.parquet\r\n",
      "-rwxrwxrwx 1 mab-linux mab-linux  21M Mar  3 17:51 part-00002-23f81cb1-4a4c-40f9-9680-6257be7c93a5-c000.snappy.parquet\r\n",
      "-rwxrwxrwx 1 mab-linux mab-linux  21M Mar  3 17:51 part-00006-23f81cb1-4a4c-40f9-9680-6257be7c93a5-c000.snappy.parquet\r\n",
      "-rwxrwxrwx 1 mab-linux mab-linux  21M Mar  3 17:51 part-00010-23f81cb1-4a4c-40f9-9680-6257be7c93a5-c000.snappy.parquet\r\n",
      "-rwxrwxrwx 1 mab-linux mab-linux  14M Mar  3 17:51 part-00013-23f81cb1-4a4c-40f9-9680-6257be7c93a5-c000.snappy.parquet\r\n"
     ]
    }
   ],
   "source": [
    "# Find the approximate file size\n",
    "!cd yellow/2024/10 && ls -lh"
   ]
  },
  {
   "cell_type": "code",
   "execution_count": 19,
   "id": "f3345d00",
   "metadata": {},
   "outputs": [
    {
     "name": "stdout",
     "output_type": "stream",
     "text": [
      "+--------+--------------------+---------------------+---------------+-------------+----------+------------------+------------+------------+------------+-----------+-----+-------+----------+------------+---------------------+------------+--------------------+-----------+\n",
      "|VendorID|tpep_pickup_datetime|tpep_dropoff_datetime|passenger_count|trip_distance|RatecodeID|store_and_fwd_flag|PULocationID|DOLocationID|payment_type|fare_amount|extra|mta_tax|tip_amount|tolls_amount|improvement_surcharge|total_amount|congestion_surcharge|Airport_fee|\n",
      "+--------+--------------------+---------------------+---------------+-------------+----------+------------------+------------+------------+------------+-----------+-----+-------+----------+------------+---------------------+------------+--------------------+-----------+\n",
      "|       2| 2024-10-01 00:30:44|  2024-10-01 00:48:26|              1|          3.0|         1|                 N|         162|         246|           1|       18.4|  1.0|    0.5|       1.5|         0.0|                  1.0|        24.9|                 2.5|        0.0|\n",
      "|       1| 2024-10-01 00:12:20|  2024-10-01 00:25:25|              1|          2.2|         1|                 N|          48|         236|           1|       14.2|  3.5|    0.5|       3.8|         0.0|                  1.0|        23.0|                 2.5|        0.0|\n",
      "|       1| 2024-10-01 00:04:46|  2024-10-01 00:13:52|              1|          2.7|         1|                 N|         142|          24|           1|       13.5|  3.5|    0.5|       3.7|         0.0|                  1.0|        22.2|                 2.5|        0.0|\n",
      "|       1| 2024-10-01 00:12:10|  2024-10-01 00:23:01|              1|          3.1|         1|                 N|         233|          75|           1|       14.2|  3.5|    0.5|       2.0|         0.0|                  1.0|        21.2|                 2.5|        0.0|\n",
      "|       1| 2024-10-01 00:30:22|  2024-10-01 00:30:39|              1|          0.0|         1|                 N|         262|         262|           3|        3.0|  3.5|    0.5|       0.0|         0.0|                  1.0|         8.0|                 2.5|        0.0|\n",
      "+--------+--------------------+---------------------+---------------+-------------+----------+------------------+------------+------------+------------+-----------+-----+-------+----------+------------+---------------------+------------+--------------------+-----------+\n",
      "only showing top 5 rows\n",
      "\n"
     ]
    }
   ],
   "source": [
    "# Inspect the data\n",
    "df_yellow.show(5)"
   ]
  },
  {
   "cell_type": "code",
   "execution_count": 53,
   "id": "0a5b2c5f",
   "metadata": {},
   "outputs": [],
   "source": [
    "# Create a temporary view to use in spark sql\n",
    "df_yellow.createOrReplaceTempView('yellow_trips')"
   ]
  },
  {
   "cell_type": "code",
   "execution_count": 23,
   "id": "a1abe966",
   "metadata": {},
   "outputs": [
    {
     "name": "stdout",
     "output_type": "stream",
     "text": [
      "+--------+\n",
      "|count(1)|\n",
      "+--------+\n",
      "|  128893|\n",
      "+--------+\n",
      "\n"
     ]
    }
   ],
   "source": [
    "count_sql = spark.sql(\"\"\"\n",
    "    SELECT count(*) from yellow_trips\n",
    "    where DATE(tpep_pickup_datetime) = \"2024-10-15\"\n",
    "\"\"\")\n",
    "count_sql.show()"
   ]
  },
  {
   "cell_type": "code",
   "execution_count": 26,
   "id": "d2aae4c0",
   "metadata": {},
   "outputs": [],
   "source": [
    "from pyspark.sql import functions as F"
   ]
  },
  {
   "cell_type": "code",
   "execution_count": 39,
   "id": "70b1e20f",
   "metadata": {},
   "outputs": [
    {
     "name": "stdout",
     "output_type": "stream",
     "text": [
      "+--------------------+\n",
      "|Longest trip (Hours)|\n",
      "+--------------------+\n",
      "|  162.61777777777777|\n",
      "+--------------------+\n",
      "\n"
     ]
    }
   ],
   "source": [
    "trips_time_hours = df_yellow \\\n",
    "    .withColumn(\"diff_hours\",(F.unix_timestamp(\"tpep_dropoff_datetime\")-F.unix_timestamp(\"tpep_pickup_datetime\"))/3600)\n",
    "longest_trip = trips_time_hours \\\n",
    "    .select(F.max(\"diff_hours\").alias(\"Longest trip (Hours)\"))\n",
    "longest_trip.show()"
   ]
  },
  {
   "cell_type": "code",
   "execution_count": 44,
   "id": "dc26a83b",
   "metadata": {},
   "outputs": [],
   "source": [
    "# Define standard schema\n",
    "from pyspark.sql import types\n",
    "schema = types.StructType([\n",
    "    types.StructField('LocationID', types.IntegerType(), True), \n",
    "    types.StructField('Borough', types.StringType(), True), \n",
    "    types.StructField('Zone', types.StringType(), True), \n",
    "    types.StructField('service_zone', types.StringType(), True)]\n",
    ")"
   ]
  },
  {
   "cell_type": "code",
   "execution_count": 45,
   "id": "18e62606",
   "metadata": {},
   "outputs": [
    {
     "data": {
      "text/plain": [
       "StructType([StructField('LocationID', IntegerType(), True), StructField('Borough', StringType(), True), StructField('Zone', StringType(), True), StructField('service_zone', StringType(), True)])"
      ]
     },
     "execution_count": 45,
     "metadata": {},
     "output_type": "execute_result"
    }
   ],
   "source": [
    "# Read taxi_zone_lookup csv\n",
    "df_taxi_zones = spark.read \\\n",
    "    .option(\"header\", True) \\\n",
    "    .schema(schema) \\\n",
    "    .csv(\"/mnt/c/Users/mab03/Desktop/DataEngineeringZoomcamp2025/Homework/Module5_Spark/taxi_zone_lookup.csv\")\n",
    "\n",
    "df_taxi_zones.schema"
   ]
  },
  {
   "cell_type": "code",
   "execution_count": 46,
   "id": "327d16e6",
   "metadata": {},
   "outputs": [
    {
     "name": "stdout",
     "output_type": "stream",
     "text": [
      "+----------+-------------+--------------------+------------+\n",
      "|LocationID|      Borough|                Zone|service_zone|\n",
      "+----------+-------------+--------------------+------------+\n",
      "|         1|          EWR|      Newark Airport|         EWR|\n",
      "|         2|       Queens|         Jamaica Bay|   Boro Zone|\n",
      "|         3|        Bronx|Allerton/Pelham G...|   Boro Zone|\n",
      "|         4|    Manhattan|       Alphabet City| Yellow Zone|\n",
      "|         5|Staten Island|       Arden Heights|   Boro Zone|\n",
      "+----------+-------------+--------------------+------------+\n",
      "only showing top 5 rows\n",
      "\n"
     ]
    }
   ],
   "source": [
    "df_taxi_zones.show(5)"
   ]
  },
  {
   "cell_type": "code",
   "execution_count": 54,
   "id": "548f6625",
   "metadata": {},
   "outputs": [],
   "source": [
    "# Create temporary view\n",
    "df_taxi_zones.createOrReplaceTempView('taxi_zones')"
   ]
  },
  {
   "cell_type": "code",
   "execution_count": 64,
   "id": "49b06760",
   "metadata": {},
   "outputs": [
    {
     "name": "stdout",
     "output_type": "stream",
     "text": [
      "+--------------------+---------+\n",
      "|         pickup_zone|frequency|\n",
      "+--------------------+---------+\n",
      "|Governor's Island...|        1|\n",
      "|       Rikers Island|        2|\n",
      "|       Arden Heights|        2|\n",
      "|         Jamaica Bay|        3|\n",
      "| Green-Wood Cemetery|        3|\n",
      "+--------------------+---------+\n",
      "only showing top 5 rows\n",
      "\n"
     ]
    }
   ],
   "source": [
    "yellow_taxi_zones = spark.sql(\"\"\"\n",
    "    with t_zones as(\n",
    "        select * from taxi_zones\n",
    "        where Borough != 'Unknown'\n",
    "    ),\n",
    "    pickup_dropoff_zones as(\n",
    "        SELECT \n",
    "            t_pu.zone as pickup_zone,\n",
    "            t_do.zone as dropoff_zone\n",
    "        from yellow_trips as y\n",
    "        inner join t_zones as t_pu \n",
    "        on t_pu.locationid = y.PULocationID\n",
    "        inner join t_zones as t_do\n",
    "        on t_do.locationid = y.DOLocationID\n",
    "    )\n",
    "        SELECT \n",
    "            pickup_zone,\n",
    "            count(pickup_zone) as frequency\n",
    "        from pickup_dropoff_zones\n",
    "        group by pickup_zone\n",
    "        order by frequency asc\n",
    "\"\"\")\n",
    "\n",
    "yellow_taxi_zones.show(5)"
   ]
  },
  {
   "cell_type": "code",
   "execution_count": null,
   "id": "368ab6e6",
   "metadata": {},
   "outputs": [],
   "source": []
  }
 ],
 "metadata": {
  "kernelspec": {
   "display_name": "Python (zoomcampvenv)",
   "language": "python",
   "name": "zoomcampvenv"
  },
  "language_info": {
   "codemirror_mode": {
    "name": "ipython",
    "version": 3
   },
   "file_extension": ".py",
   "mimetype": "text/x-python",
   "name": "python",
   "nbconvert_exporter": "python",
   "pygments_lexer": "ipython3",
   "version": "3.12.3"
  }
 },
 "nbformat": 4,
 "nbformat_minor": 5
}
