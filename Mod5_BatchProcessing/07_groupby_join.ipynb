{
 "cells": [
  {
   "cell_type": "code",
   "execution_count": 1,
   "id": "1a0b44e4",
   "metadata": {},
   "outputs": [
    {
     "name": "stderr",
     "output_type": "stream",
     "text": [
      "25/02/28 10:22:14 WARN Utils: Your hostname, MichaelAngelo resolves to a loopback address: 127.0.1.1; using 10.255.255.254 instead (on interface lo)\n",
      "25/02/28 10:22:14 WARN Utils: Set SPARK_LOCAL_IP if you need to bind to another address\n",
      "Setting default log level to \"WARN\".\n",
      "To adjust logging level use sc.setLogLevel(newLevel). For SparkR, use setLogLevel(newLevel).\n",
      "25/02/28 10:22:15 WARN NativeCodeLoader: Unable to load native-hadoop library for your platform... using builtin-java classes where applicable\n"
     ]
    }
   ],
   "source": [
    "import pyspark\n",
    "from pyspark.sql import SparkSession\n",
    "\n",
    "spark = SparkSession.builder \\\n",
    "    .master(\"local[*]\") \\\n",
    "    .appName('GroupByJoin') \\\n",
    "    .getOrCreate()"
   ]
  },
  {
   "cell_type": "code",
   "execution_count": 2,
   "id": "a7686d19",
   "metadata": {},
   "outputs": [
    {
     "name": "stderr",
     "output_type": "stream",
     "text": [
      "                                                                                \r"
     ]
    }
   ],
   "source": [
    "df_green = spark.read.parquet(\"/mnt/c/Users/mab03/Desktop/DataEngineeringZoomcamp2025/TaxiData/green_data/*\")"
   ]
  },
  {
   "cell_type": "code",
   "execution_count": 3,
   "id": "2a16faa5",
   "metadata": {},
   "outputs": [],
   "source": [
    "df_green.createOrReplaceTempView('green_taxidata')"
   ]
  },
  {
   "cell_type": "code",
   "execution_count": 4,
   "id": "30bd5e42",
   "metadata": {},
   "outputs": [],
   "source": [
    "df_green_revenue = spark.sql(\"\"\"\n",
    "SELECT \n",
    "    date_trunc('hour', lpep_pickup_datetime) AS hour, \n",
    "    PULocationID AS zone,\n",
    "\n",
    "    SUM(total_amount) AS amount,\n",
    "    COUNT(1) AS number_records\n",
    "FROM\n",
    "    green_taxidata\n",
    "WHERE\n",
    "    lpep_pickup_datetime >= '2020-01-01 00:00:00'\n",
    "GROUP BY\n",
    "    1, 2\n",
    "\"\"\")"
   ]
  },
  {
   "cell_type": "code",
   "execution_count": 5,
   "id": "4b2a0e2e",
   "metadata": {},
   "outputs": [
    {
     "name": "stderr",
     "output_type": "stream",
     "text": [
      "                                                                                \r"
     ]
    },
    {
     "name": "stdout",
     "output_type": "stream",
     "text": [
      "+-------------------+----+-------------+--------------+\n",
      "|               hour|zone|       amount|number_records|\n",
      "+-------------------+----+-------------+--------------+\n",
      "|2062-08-15 00:00:00|   7|  3.600000000|             1|\n",
      "|2020-01-01 00:00:00|  74|337.690000000|            26|\n",
      "|2020-01-01 02:00:00| 260|235.170000000|            20|\n",
      "|2020-01-01 09:00:00|  42| 79.520000000|             8|\n",
      "|2020-01-01 13:00:00| 243| 42.550000000|             1|\n",
      "+-------------------+----+-------------+--------------+\n",
      "only showing top 5 rows\n",
      "\n"
     ]
    }
   ],
   "source": [
    "df_green_revenue.show(5)"
   ]
  },
  {
   "cell_type": "code",
   "execution_count": 6,
   "id": "45daed1a",
   "metadata": {},
   "outputs": [],
   "source": [
    "# Can then save results to parquet files and repartition to 20 files.\n",
    "# df_green_revenue \\\n",
    "#     .repartition(20) \\\n",
    "#     .write.parquet('data/report/revenue/green', mode='overwrite')"
   ]
  },
  {
   "cell_type": "code",
   "execution_count": 8,
   "id": "1b3ef2d4",
   "metadata": {},
   "outputs": [],
   "source": [
    "import os\n",
    "path = \"/mnt/c/Users/mab03/Desktop/DataEngineeringZoomcamp2025/TaxiData/yellow_data/\"\n",
    "parquet_files = [f for f in os.listdir(path) if \"_normalized\" in f and f.endswith(\".parquet\")]\n",
    "\n",
    "df_yellow = spark.read.parquet(*[os.path.join(path, f) for f in parquet_files])"
   ]
  },
  {
   "cell_type": "code",
   "execution_count": 9,
   "id": "01721080",
   "metadata": {},
   "outputs": [],
   "source": [
    "df_yellow.createOrReplaceTempView('yellow_taxidata')"
   ]
  },
  {
   "cell_type": "code",
   "execution_count": 10,
   "id": "a896eaa8",
   "metadata": {},
   "outputs": [],
   "source": [
    "df_yellow_revenue = spark.sql(\"\"\"\n",
    "SELECT \n",
    "    date_trunc('hour', tpep_pickup_datetime) AS hour, \n",
    "    PULocationID AS zone,\n",
    "\n",
    "    SUM(total_amount) AS amount,\n",
    "    COUNT(1) AS number_records\n",
    "FROM\n",
    "    yellow_taxidata\n",
    "WHERE\n",
    "    tpep_pickup_datetime >= '2020-01-01 00:00:00'\n",
    "GROUP BY\n",
    "    1, 2\n",
    "\"\"\")"
   ]
  },
  {
   "cell_type": "code",
   "execution_count": 11,
   "id": "a910e5f9",
   "metadata": {},
   "outputs": [],
   "source": [
    "df_green_revenue_tmp = df_green_revenue \\\n",
    "    .withColumnRenamed('amount', 'green_amount') \\\n",
    "    .withColumnRenamed('number_records', 'green_number_records')\n",
    "\n",
    "df_yellow_revenue_tmp = df_yellow_revenue \\\n",
    "    .withColumnRenamed('amount', 'yellow_amount') \\\n",
    "    .withColumnRenamed('number_records', 'yellow_number_records')"
   ]
  },
  {
   "cell_type": "code",
   "execution_count": 12,
   "id": "8b98d84e",
   "metadata": {},
   "outputs": [],
   "source": [
    "df_join = df_green_revenue_tmp.join(df_yellow_revenue_tmp, on=['hour', 'zone'], how='outer')"
   ]
  },
  {
   "cell_type": "code",
   "execution_count": 13,
   "id": "720e8d53",
   "metadata": {},
   "outputs": [
    {
     "name": "stderr",
     "output_type": "stream",
     "text": [
      "[Stage 6:=====================================================>   (16 + 1) / 17]\r"
     ]
    },
    {
     "name": "stdout",
     "output_type": "stream",
     "text": [
      "+-------------------+----+-------------+--------------------+--------------+---------------------+\n",
      "|               hour|zone| green_amount|green_number_records| yellow_amount|yellow_number_records|\n",
      "+-------------------+----+-------------+--------------------+--------------+---------------------+\n",
      "|2020-01-01 00:00:00| 122|103.960000000|                   2|          NULL|                 NULL|\n",
      "|2020-01-01 00:00:00| 188|127.570000000|                   6| 105.720000000|                    5|\n",
      "|2020-01-01 00:00:00| 226| 41.150000000|                   3| 233.210000000|                   13|\n",
      "|2020-01-01 00:00:00| 234|         NULL|                NULL|8836.020000000|                  481|\n",
      "|2020-01-01 00:00:00|   3|         NULL|                NULL|  25.000000000|                    1|\n",
      "|2020-01-01 00:00:00|  32| 68.950000000|                   2|  18.000000000|                    1|\n",
      "|2020-01-01 00:00:00|  59| 50.900000000|                   3|          NULL|                 NULL|\n",
      "|2020-01-01 00:00:00|  74|337.690000000|                  26| 586.210000000|                   47|\n",
      "|2020-01-01 00:00:00|  85| 64.760000000|                   4| 102.560000000|                    3|\n",
      "|2020-01-01 00:00:00|  95|202.200000000|                  15|   6.300000000|                    1|\n",
      "+-------------------+----+-------------+--------------------+--------------+---------------------+\n",
      "only showing top 10 rows\n",
      "\n"
     ]
    },
    {
     "name": "stderr",
     "output_type": "stream",
     "text": [
      "\r",
      "                                                                                \r"
     ]
    }
   ],
   "source": [
    "df_join.show(10)"
   ]
  },
  {
   "cell_type": "code",
   "execution_count": 14,
   "id": "70fa5f98",
   "metadata": {},
   "outputs": [],
   "source": [
    "# Again can save it if needed\n",
    "# df_join = spark.read.parquet('data/report/revenue/total')"
   ]
  }
 ],
 "metadata": {
  "kernelspec": {
   "display_name": "Python (zoomcampvenv)",
   "language": "python",
   "name": "zoomcampvenv"
  },
  "language_info": {
   "codemirror_mode": {
    "name": "ipython",
    "version": 3
   },
   "file_extension": ".py",
   "mimetype": "text/x-python",
   "name": "python",
   "nbconvert_exporter": "python",
   "pygments_lexer": "ipython3",
   "version": "3.12.3"
  }
 },
 "nbformat": 4,
 "nbformat_minor": 5
}
